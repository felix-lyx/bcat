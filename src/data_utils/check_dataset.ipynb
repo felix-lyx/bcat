{
 "cells": [
  {
   "cell_type": "code",
   "execution_count": 12,
   "metadata": {},
   "outputs": [],
   "source": [
    "import numpy as np\n",
    "import h5py\n",
    "import os\n",
    "\n",
    "def h5printR(item, leading = ''):\n",
    "    for key in item:\n",
    "        if isinstance(item[key], h5py.Dataset):\n",
    "            print(leading + key + ': ' + str(item[key].shape))\n",
    "        else:\n",
    "            print(leading + key)\n",
    "            h5printR(item[key], leading + '  ')"
   ]
  },
  {
   "cell_type": "markdown",
   "metadata": {},
   "source": [
    "PDEBench - Reaction Diffusion"
   ]
  },
  {
   "cell_type": "code",
   "execution_count": 39,
   "metadata": {},
   "outputs": [
    {
     "name": "stdout",
     "output_type": "stream",
     "text": [
      "1000\n",
      "data: (101, 128, 128, 2)\n",
      "grid\n",
      "  t: (101,)\n",
      "  x: (128,)\n",
      "  y: (128,)\n",
      "0.0 5.0\n",
      "-0.9941406 0.9902344\n",
      "-0.9941406 0.9902344\n"
     ]
    }
   ],
   "source": [
    "path = \"/s1/shared/dataset/pdebench/2D/diffusion-reaction/2D_diff-react_NA_NA.h5\"\n",
    "with h5py.File(path, 'r') as hf:\n",
    "    print(len(hf.keys()))\n",
    "    idx = '0001'\n",
    "    h5printR(hf[idx])\n",
    "    print(hf[idx]['grid'][\"t\"][0], hf[idx]['grid'][\"t\"][-1])\n",
    "    print(hf[idx]['grid'][\"x\"][0], hf[idx]['grid'][\"x\"][-1])\n",
    "    print(hf[idx]['grid'][\"y\"][0], hf[idx]['grid'][\"y\"][-1])"
   ]
  },
  {
   "cell_type": "markdown",
   "metadata": {},
   "source": [
    "PDEBench - Shallow Water"
   ]
  },
  {
   "cell_type": "code",
   "execution_count": 40,
   "metadata": {},
   "outputs": [
    {
     "name": "stdout",
     "output_type": "stream",
     "text": [
      "1000\n",
      "data: (101, 128, 128, 1)\n",
      "grid\n",
      "  t: (101,)\n",
      "  x: (128,)\n",
      "  y: (128,)\n",
      "0.0 1.0\n",
      "-2.4804688 2.4804688\n",
      "-2.4804688 2.4804688\n"
     ]
    }
   ],
   "source": [
    "path = \"/s1/shared/dataset/pdebench/2D/shallow-water/2D_rdb_NA_NA.h5\"\n",
    "with h5py.File(path, 'r') as hf:\n",
    "    print(len(hf.keys()))\n",
    "    idx = '0001'\n",
    "    h5printR(hf[idx])\n",
    "    print(hf[idx]['grid'][\"t\"][0], hf[idx]['grid'][\"t\"][-1])\n",
    "    print(hf[idx]['grid'][\"x\"][0], hf[idx]['grid'][\"x\"][-1])\n",
    "    print(hf[idx]['grid'][\"y\"][0], hf[idx]['grid'][\"y\"][-1])"
   ]
  },
  {
   "cell_type": "markdown",
   "metadata": {},
   "source": [
    "PDEBench - Incompressible NS"
   ]
  },
  {
   "cell_type": "code",
   "execution_count": 62,
   "metadata": {},
   "outputs": [
    {
     "name": "stdout",
     "output_type": "stream",
     "text": [
      "<KeysViewHDF5 ['force', 'particles', 't', 'velocity']>\n",
      "force: (4, 512, 512, 2)\n",
      "particles: (4, 1000, 512, 512, 1)\n",
      "t: (4, 1000)\n",
      "velocity: (4, 1000, 512, 512, 2)\n",
      "0.0 4.995\n",
      "3.2038276 -2.9708786\n"
     ]
    }
   ],
   "source": [
    "folder = \"/s1/shared/dataset/pdebench/2D/NS_incom\"\n",
    "files = os.listdir(folder)\n",
    "path = os.path.join(folder, files[5])\n",
    "with h5py.File(path, 'r') as hf:\n",
    "    print(hf.keys())\n",
    "    h5printR(hf)\n",
    "    print(hf[\"t\"][0, 0], hf[\"t\"][0, -1])\n",
    "    array = hf[\"particles\"][:]\n",
    "    print(np.max(array), np.min(array))"
   ]
  },
  {
   "cell_type": "markdown",
   "metadata": {},
   "source": [
    "PDEBench - Compressible NS"
   ]
  },
  {
   "cell_type": "code",
   "execution_count": 17,
   "metadata": {},
   "outputs": [
    {
     "name": "stdout",
     "output_type": "stream",
     "text": [
      "File: 2D_CFD_Rand_M0.1_Eta1e-08_Zeta1e-08_periodic_128_Train.hdf5\n",
      "<KeysViewHDF5 ['Vx', 'Vy', 'density', 'pressure', 't-coordinate', 'x-coordinate', 'y-coordinate']>\n",
      "Vx: (1000, 21, 128, 128)\n",
      "Vy: (1000, 21, 128, 128)\n",
      "density: (1000, 21, 128, 128)\n",
      "pressure: (1000, 21, 128, 128)\n",
      "t-coordinate: (22,)\n",
      "x-coordinate: (128,)\n",
      "y-coordinate: (128,)\n",
      "\n",
      "File: 2D_CFD_Rand_M0.1_Eta0.01_Zeta0.01_periodic_128_Train.hdf5\n",
      "<KeysViewHDF5 ['Vx', 'Vy', 'density', 'pressure', 't-coordinate', 'x-coordinate', 'y-coordinate']>\n",
      "Vx: (10000, 21, 128, 128)\n",
      "Vy: (10000, 21, 128, 128)\n",
      "density: (10000, 21, 128, 128)\n",
      "pressure: (10000, 21, 128, 128)\n",
      "t-coordinate: (22,)\n",
      "x-coordinate: (128,)\n",
      "y-coordinate: (128,)\n",
      "\n",
      "File: 2D_CFD_Rand_M1.0_Eta0.1_Zeta0.1_periodic_128_Train.hdf5\n",
      "<KeysViewHDF5 ['Vx', 'Vy', 'density', 'pressure', 't-coordinate', 'x-coordinate', 'y-coordinate']>\n",
      "Vx: (10000, 21, 128, 128)\n",
      "Vy: (10000, 21, 128, 128)\n",
      "density: (10000, 21, 128, 128)\n",
      "pressure: (10000, 21, 128, 128)\n",
      "t-coordinate: (22,)\n",
      "x-coordinate: (128,)\n",
      "y-coordinate: (128,)\n",
      "\n",
      "File: 2D_CFD_Rand_M1.0_Eta0.01_Zeta0.01_periodic_128_Train.hdf5\n",
      "<KeysViewHDF5 ['Vx', 'Vy', 'density', 'pressure', 't-coordinate', 'x-coordinate', 'y-coordinate']>\n",
      "Vx: (10000, 21, 128, 128)\n",
      "Vy: (10000, 21, 128, 128)\n",
      "density: (10000, 21, 128, 128)\n",
      "pressure: (10000, 21, 128, 128)\n",
      "t-coordinate: (22,)\n",
      "x-coordinate: (128,)\n",
      "y-coordinate: (128,)\n",
      "\n",
      "File: 2D_CFD_Rand_M0.1_Eta0.1_Zeta0.1_periodic_128_Train.hdf5\n",
      "<KeysViewHDF5 ['Vx', 'Vy', 'density', 'pressure', 't-coordinate', 'x-coordinate', 'y-coordinate']>\n",
      "Vx: (10000, 21, 128, 128)\n",
      "Vy: (10000, 21, 128, 128)\n",
      "density: (10000, 21, 128, 128)\n",
      "pressure: (10000, 21, 128, 128)\n",
      "t-coordinate: (22,)\n",
      "x-coordinate: (128,)\n",
      "y-coordinate: (128,)\n",
      "\n",
      "File: 2D_CFD_Rand_M1.0_Eta1e-08_Zeta1e-08_periodic_128_Train.hdf5\n",
      "<KeysViewHDF5 ['Vx', 'Vy', 'density', 'pressure', 't-coordinate', 'x-coordinate', 'y-coordinate']>\n",
      "Vx: (1000, 21, 128, 128)\n",
      "Vy: (1000, 21, 128, 128)\n",
      "density: (1000, 21, 128, 128)\n",
      "pressure: (1000, 21, 128, 128)\n",
      "t-coordinate: (22,)\n",
      "x-coordinate: (128,)\n",
      "y-coordinate: (128,)\n",
      "\n"
     ]
    }
   ],
   "source": [
    "folder = \"/s1/shared/dataset/pdebench/2D/CFD/2D_Train_Rand\"\n",
    "files = filter(lambda x: x.endswith(\".hdf5\"), os.listdir(folder))\n",
    "# path = os.path.join(folder, files[0])\n",
    "\n",
    "for file in files:\n",
    "    path = os.path.join(folder, file)\n",
    "    print(f\"File: {file}\")\n",
    "    with h5py.File(path, 'r') as hf:\n",
    "        print(hf.keys())\n",
    "        h5printR(hf)\n",
    "        # xs = hf[\"x-coordinate\"][:]\n",
    "        # print(xs)\n",
    "        # print(xs[0], xs[1], xs[2])\n",
    "    print()"
   ]
  },
  {
   "cell_type": "code",
   "execution_count": 4,
   "metadata": {},
   "outputs": [
    {
     "name": "stdout",
     "output_type": "stream",
     "text": [
      "File: 2D_CFD_Turb_M1.0_Eta1e-08_Zeta1e-08_periodic_128_Train.hdf5\n",
      "<KeysViewHDF5 ['Vx', 'Vy', 'density', 'pressure', 't-coordinate', 'x-coordinate', 'y-coordinate']>\n",
      "Vx: (1000, 21, 128, 128)\n",
      "Vy: (1000, 21, 128, 128)\n",
      "density: (1000, 21, 128, 128)\n",
      "pressure: (1000, 21, 128, 128)\n",
      "t-coordinate: (22,)\n",
      "x-coordinate: (128,)\n",
      "y-coordinate: (128,)\n",
      "\n",
      "File: 2D_CFD_Turb_M0.1_Eta1e-08_Zeta1e-08_periodic_128_Train.hdf5\n",
      "<KeysViewHDF5 ['Vx', 'Vy', 'density', 'pressure', 't-coordinate', 'x-coordinate', 'y-coordinate']>\n",
      "Vx: (1000, 21, 128, 128)\n",
      "Vy: (1000, 21, 128, 128)\n",
      "density: (1000, 21, 128, 128)\n",
      "pressure: (1000, 21, 128, 128)\n",
      "t-coordinate: (22,)\n",
      "x-coordinate: (128,)\n",
      "y-coordinate: (128,)\n",
      "\n"
     ]
    }
   ],
   "source": [
    "folder = \"/s1/shared/dataset/pdebench/2D/CFD/2D_Train_Turb\"\n",
    "files = filter(lambda x: x.endswith(\".hdf5\"), os.listdir(folder))\n",
    "# path = os.path.join(folder, files[0])\n",
    "\n",
    "for file in files:\n",
    "    path = os.path.join(folder, file)\n",
    "    print(f\"File: {file}\")\n",
    "    with h5py.File(path, 'r') as hf:\n",
    "        print(hf.keys())\n",
    "        h5printR(hf)\n",
    "    print()"
   ]
  },
  {
   "cell_type": "markdown",
   "metadata": {},
   "source": [
    "PDEArena - Incompressible NS"
   ]
  },
  {
   "cell_type": "code",
   "execution_count": 6,
   "metadata": {},
   "outputs": [
    {
     "name": "stdout",
     "output_type": "stream",
     "text": [
      "116\n",
      "2496\n",
      "608\n",
      "608\n",
      "File: NavierStokes2D_train_600790_0.27498_32.h5\n",
      "train\n",
      "  buo_y: (32,)\n",
      "  dt: (32,)\n",
      "  dx: (32,)\n",
      "  dy: (32,)\n",
      "  t: (32, 56)\n",
      "  u: (32, 56, 128, 128)\n",
      "  vx: (32, 56, 128, 128)\n",
      "  vy: (32, 56, 128, 128)\n",
      "  x: (32, 128)\n",
      "  y: (32, 128)\n",
      "18.0 102.0\n",
      "0.0 32.0\n"
     ]
    }
   ],
   "source": [
    "folder = \"/data/shared/dataset/pdearena/NavierStokes-2D-conditioned\"\n",
    "files = list(filter(lambda x: x.endswith(\".h5\"), os.listdir(folder)))\n",
    "# path = os.path.join(folder, files[0])\n",
    "\n",
    "print(len(files))\n",
    "print(32*len(list(filter(lambda x: \"train\" in x, files))))\n",
    "print(32*len(list(filter(lambda x: \"valid\" in x, files))))\n",
    "print(32*len(list(filter(lambda x: \"test\" in x, files))))\n",
    "\n",
    "for file in files:\n",
    "    path = os.path.join(folder, file)\n",
    "    print(f\"File: {file}\")\n",
    "    with h5py.File(path, 'r') as hf:\n",
    "        # print(hf.keys())\n",
    "        h5printR(hf)\n",
    "        print(hf[\"train\"][\"t\"][0,0], hf[\"train\"][\"t\"][0,-1])\n",
    "        print(hf[\"train\"][\"x\"][0,0], hf[\"train\"][\"x\"][0,-1])\n",
    "        # print(hf[\"train\"][\"buo_y\"][:]) # varying\n",
    "    # print()\n",
    "    break"
   ]
  },
  {
   "cell_type": "code",
   "execution_count": 10,
   "metadata": {},
   "outputs": [
    {
     "name": "stdout",
     "output_type": "stream",
     "text": [
      "156\n",
      "1664\n",
      "1664\n",
      "1664\n",
      "File: NavierStokes2D_train_597635_0.50000_100.h5\n",
      "train\n",
      "  buo_y: (100,)\n",
      "  dt: (100,)\n",
      "  dx: (100,)\n",
      "  dy: (100,)\n",
      "  t: (100, 14)\n",
      "  u: (100, 14, 128, 128)\n",
      "  vx: (100, 14, 128, 128)\n",
      "  vy: (100, 14, 128, 128)\n",
      "  x: (100, 128)\n",
      "  y: (100, 128)\n",
      "18.0 102.0\n",
      "0.0 32.0\n"
     ]
    }
   ],
   "source": [
    "folder = \"/data/shared/dataset/pdearena/NavierStokes-2D\"\n",
    "files = list(filter(lambda x: x.endswith(\".h5\"), os.listdir(folder)))\n",
    "# path = os.path.join(folder, files[0])\n",
    "\n",
    "print(len(files))\n",
    "print(32*len(list(filter(lambda x: \"train\" in x, files))))\n",
    "print(32*len(list(filter(lambda x: \"valid\" in x, files))))\n",
    "print(32*len(list(filter(lambda x: \"test\" in x, files))))\n",
    "\n",
    "for file in files:\n",
    "    path = os.path.join(folder, file)\n",
    "    print(f\"File: {file}\")\n",
    "    with h5py.File(path, 'r') as hf:\n",
    "        # print(hf.keys())\n",
    "        h5printR(hf)\n",
    "        print(hf[\"train\"][\"t\"][0,0], hf[\"train\"][\"t\"][0,-1])\n",
    "        print(hf[\"train\"][\"x\"][0,0], hf[\"train\"][\"x\"][0,-1])\n",
    "        # print(hf[\"train\"][\"buo_y\"][:]) # 0.5\n",
    "    # print()\n",
    "    break"
   ]
  },
  {
   "cell_type": "markdown",
   "metadata": {},
   "source": [
    "CFDBench"
   ]
  },
  {
   "cell_type": "code",
   "execution_count": 22,
   "metadata": {},
   "outputs": [
    {
     "name": "stdout",
     "output_type": "stream",
     "text": [
      "data: (8774, 20, 128, 128, 3)\n"
     ]
    }
   ],
   "source": [
    "# converted\n",
    "path = \"/data/shared/dataset/cfdbench/ns2d_cdb_train.hdf5\"\n",
    "with h5py.File(path, 'r') as hf:\n",
    "    h5printR"
   ]
  },
  {
   "cell_type": "code",
   "execution_count": 18,
   "metadata": {},
   "outputs": [
    {
     "name": "stdout",
     "output_type": "stream",
     "text": [
      "(2000, 64, 64)\n",
      "(620, 64, 64)\n",
      "(1000, 64, 64)\n"
     ]
    }
   ],
   "source": [
    "# raw\n",
    "path = \"/data/shared/dataset/cfdbench/cylinder/geo/case0001/u.npy\"\n",
    "print(np.load(path).shape)\n",
    "\n",
    "path = \"/data/shared/dataset/cfdbench/cylinder/bc/case0000/u.npy\"\n",
    "print(np.load(path).shape)\n",
    "\n",
    "path = \"/data/shared/dataset/cfdbench/cylinder/prop/case0050/u.npy\"\n",
    "print(np.load(path).shape)"
   ]
  },
  {
   "cell_type": "code",
   "execution_count": 19,
   "metadata": {},
   "outputs": [
    {
     "name": "stdout",
     "output_type": "stream",
     "text": [
      "(23, 64, 64)\n",
      "(10, 64, 64)\n",
      "(21, 64, 64)\n"
     ]
    }
   ],
   "source": [
    "path = \"/data/shared/dataset/cfdbench/cavity/geo/case0001/u.npy\"\n",
    "print(np.load(path).shape)\n",
    "\n",
    "path = \"/data/shared/dataset/cfdbench/cavity/bc/case0000/u.npy\"\n",
    "print(np.load(path).shape)\n",
    "\n",
    "path = \"/data/shared/dataset/cfdbench/cavity/prop/case0050/u.npy\"\n",
    "print(np.load(path).shape)"
   ]
  },
  {
   "cell_type": "code",
   "execution_count": 21,
   "metadata": {},
   "outputs": [
    {
     "name": "stdout",
     "output_type": "stream",
     "text": [
      "(10, 64, 64)\n",
      "(107, 64, 64)\n",
      "(14, 64, 64)\n"
     ]
    }
   ],
   "source": [
    "path = \"/data/shared/dataset/cfdbench/tube/geo/case0150/u.npy\"\n",
    "print(np.load(path).shape)\n",
    "\n",
    "path = \"/data/shared/dataset/cfdbench/tube/bc/case0000/u.npy\"\n",
    "print(np.load(path).shape)\n",
    "\n",
    "path = \"/data/shared/dataset/cfdbench/tube/prop/case0050/u.npy\"\n",
    "print(np.load(path).shape)"
   ]
  }
 ],
 "metadata": {
  "kernelspec": {
   "display_name": "myenv",
   "language": "python",
   "name": "python3"
  },
  "language_info": {
   "codemirror_mode": {
    "name": "ipython",
    "version": 3
   },
   "file_extension": ".py",
   "mimetype": "text/x-python",
   "name": "python",
   "nbconvert_exporter": "python",
   "pygments_lexer": "ipython3",
   "version": "3.11.7"
  }
 },
 "nbformat": 4,
 "nbformat_minor": 2
}
